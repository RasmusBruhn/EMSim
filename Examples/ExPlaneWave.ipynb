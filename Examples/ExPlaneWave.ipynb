{
 "cells": [
  {
   "cell_type": "markdown",
   "metadata": {},
   "source": [
    "# Alternating Line Current\n",
    "## Import modules"
   ]
  },
  {
   "cell_type": "code",
   "execution_count": null,
   "metadata": {},
   "outputs": [],
   "source": [
    "import os\n",
    "import numpy as np\n",
    "import KUEM as EM\n",
    "import matplotlib.pyplot as plt\n",
    "\n",
    "plt.close(\"all\")"
   ]
  },
  {
   "cell_type": "markdown",
   "metadata": {},
   "source": [
    "## Setup constants and settings"
   ]
  },
  {
   "cell_type": "code",
   "execution_count": null,
   "metadata": {},
   "outputs": [],
   "source": [
    "# Constants for J\n",
    "Amplitude = 1\n",
    "Frequency = 2\n",
    "\n",
    "# Grid constants\n",
    "N = np.array([1, 1, 1000], dtype = int)\n",
    "delta_x = np.array([2, 2, 1])\n",
    "x0 = np.array([-1, -1, 0])\n",
    "Boundaries = [\"periodic\", \"periodic\", [\"closed\", \"closed\"]]\n",
    "\n",
    "# Evaluation constants\n",
    "StaticsExact = True\n",
    "DynamicsExact = True\n",
    "Progress = 5\n",
    "approx_n = 0.1\n",
    "\n",
    "# Video constants\n",
    "FPS = 30\n",
    "Speed = 0.2\n",
    "Delta_t = 10\n",
    "TimeConstant = 5\n",
    "Steps = int(FPS / Speed * Delta_t)\n",
    "SubSteps = int(np.ceil(TimeConstant * Delta_t * np.max(N / delta_x) / Steps))\n",
    "dt = Delta_t / (Steps * SubSteps)\n",
    "\n",
    "# Plotting settings\n",
    "PlotScalar = True\n",
    "PlotContour = False\n",
    "PlotVector = False\n",
    "PlotStreams = True\n",
    "\n",
    "StreamDensity = 2\n",
    "StreamLength = 1\n",
    "ContourLevels = 10\n",
    "ContourLim = (0, 0.15)\n",
    "\n",
    "# File names\n",
    "FilePos = \"PlaneWave/\"\n",
    "Name_B_1D = \"ExPlaneWaveB.avi\"\n",
    "Name_A_1D = \"ExPlaneWaveA.avi\"\n",
    "Save = True"
   ]
  },
  {
   "cell_type": "markdown",
   "metadata": {},
   "source": [
    "## Create the boundary conditions"
   ]
  },
  {
   "cell_type": "code",
   "execution_count": null,
   "metadata": {},
   "outputs": [],
   "source": [
    "# Create the plane wave boundary condition\n",
    "def C(dx, N, x0, c, mu0):\n",
    "    # Create an empty C\n",
    "    C = np.zeros(tuple(N) + (4, 3, 2), dtype = float)\n",
    "\n",
    "    # Add the plane wave\n",
    "    C[:, :, 0, 1, 2, 0] = Amplitude\n",
    "    \n",
    "    # Turn into vector\n",
    "    C = EM.to_vector(C, N)\n",
    "\n",
    "    # Create the function to return the conditions\n",
    "    # t:        The time\n",
    "    def GetC(t):\n",
    "        return C * np.cos(2 * np.pi * Frequency * t)\n",
    "    \n",
    "    return GetC"
   ]
  },
  {
   "cell_type": "markdown",
   "metadata": {},
   "source": [
    "## Create the J function"
   ]
  },
  {
   "cell_type": "code",
   "execution_count": null,
   "metadata": {},
   "outputs": [],
   "source": [
    "# Define the vacuum\n",
    "def J(dx, N, x0, c, mu0):\n",
    "    # Create grid\n",
    "    Grid = np.zeros(tuple(N) + (4,))\n",
    "    \n",
    "    # Turn into a vector\n",
    "    J_Vector = EM.to_vector(Grid, N)\n",
    "    \n",
    "    # Return the vector\n",
    "    def get_J(t):\n",
    "        return J_Vector\n",
    "    \n",
    "    return get_J"
   ]
  },
  {
   "cell_type": "markdown",
   "metadata": {},
   "source": [
    "## Setup the simulation"
   ]
  },
  {
   "cell_type": "code",
   "execution_count": null,
   "metadata": {},
   "outputs": [],
   "source": [
    "# Setup the simulation\n",
    "Sim = EM.sim(N, delta_x = delta_x, x0 = x0, approx_n = approx_n, dt = dt, J = J, boundaries = Boundaries, C = C)"
   ]
  },
  {
   "cell_type": "markdown",
   "metadata": {},
   "source": [
    "## Define the samplers"
   ]
  },
  {
   "cell_type": "code",
   "execution_count": null,
   "metadata": {},
   "outputs": [],
   "source": [
    "# Set clim\n",
    "max_val_A = 1.2\n",
    "max_val_B = 20\n",
    "clim_A = np.array([-max_val_A, max_val_A])\n",
    "clim_B = np.array([-max_val_B, max_val_B])\n",
    "\n",
    "# Define hat vectors\n",
    "hat = np.array([1, 0, 0])\n",
    "B_hat = np.array([0, -1, 0])\n",
    "\n",
    "# Define the resolutions\n",
    "Res_line = 1000\n",
    "\n",
    "# Define extents\n",
    "x_vals = np.linspace(0, delta_x[2], Res_line)\n",
    "\n",
    "# Get grid points\n",
    "Points_line = EM.sample_points_line(np.array([0, 0, 0]), np.array([0, 0, delta_x[2]]), Res_line)\n",
    "\n",
    "# Setup samplers\n",
    "Sampler_B_1D = EM.sampler_B_line(Sim, Points_line, x = x_vals, hat = B_hat)\n",
    "Sampler_A_1D = EM.sampler_A_line(Sim, Points_line, x = x_vals, hat = hat)"
   ]
  },
  {
   "cell_type": "markdown",
   "metadata": {},
   "source": [
    "## Simulate"
   ]
  },
  {
   "cell_type": "code",
   "execution_count": null,
   "metadata": {},
   "outputs": [],
   "source": [
    "# Solve the statics problem\n",
    "print(\"Solving starting conditions\")\n",
    "StaticTime = Sim.solve(exact = StaticsExact, progress = Progress)\n",
    "print(f\"Solved starting conditions in {StaticTime:.2g} s\")\n",
    "\n",
    "# Solve the dynamics\n",
    "print(\"Solving dynamics\")\n",
    "DynamicTime = Sim.dynamics(Steps, SubSteps, exact = DynamicsExact, progress = Progress)\n",
    "print(f\"Solved dynamics in {DynamicTime:.2g} s\")"
   ]
  },
  {
   "cell_type": "markdown",
   "metadata": {},
   "source": [
    "## Create videos"
   ]
  },
  {
   "cell_type": "code",
   "execution_count": null,
   "metadata": {},
   "outputs": [],
   "source": [
    "if Save is True and not os.path.exists(FilePos):\n",
    "    os.mkdir(FilePos)\n",
    "\n",
    "if Save is True:\n",
    "    print(\"Creating videos, this may take a while\")\n",
    "    Sampler_B_1D.make_video(FilePos + Name_B_1D, FPS = FPS, ylim = clim_B)\n",
    "    print(f\"Created video {Name_B_1D}\")\n",
    "    Sampler_A_1D.make_video(FilePos + Name_A_1D, FPS = FPS, ylim = clim_A)\n",
    "    print(f\"Created video {Name_A_1D}\")"
   ]
  }
 ],
 "metadata": {
  "kernelspec": {
   "display_name": "Python 3",
   "language": "python",
   "name": "python3"
  },
  "language_info": {
   "codemirror_mode": {
    "name": "ipython",
    "version": 3
   },
   "file_extension": ".py",
   "mimetype": "text/x-python",
   "name": "python",
   "nbconvert_exporter": "python",
   "pygments_lexer": "ipython3",
   "version": "3.8.5"
  }
 },
 "nbformat": 4,
 "nbformat_minor": 4
}
