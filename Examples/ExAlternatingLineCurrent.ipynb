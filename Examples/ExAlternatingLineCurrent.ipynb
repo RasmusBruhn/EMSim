{
 "cells": [
  {
   "cell_type": "markdown",
   "metadata": {},
   "source": [
    "# Alternating Line Current\n",
    "## Import modules"
   ]
  },
  {
   "cell_type": "code",
   "execution_count": null,
   "metadata": {},
   "outputs": [],
   "source": [
    "import os\n",
    "import numpy as np\n",
    "import KUEM as EM\n",
    "import matplotlib.pyplot as plt\n",
    "\n",
    "plt.close(\"all\")"
   ]
  },
  {
   "cell_type": "markdown",
   "metadata": {},
   "source": [
    "## Setup constants and settings"
   ]
  },
  {
   "cell_type": "code",
   "execution_count": null,
   "metadata": {},
   "outputs": [],
   "source": [
    "# Constants for J\n",
    "Current = 1\n",
    "Frequency = 2\n",
    "\n",
    "# Grid constants\n",
    "N = np.array([49, 49, 1], dtype = int)\n",
    "delta_x = np.array([2, 2, 2])\n",
    "x0 = np.array([-1, -1, -1])\n",
    "Boundaries = [[\"closed\", \"closed\"], [\"closed\", \"closed\"], \"periodic\"]\n",
    "\n",
    "# Evaluation constants\n",
    "StaticsExact = True\n",
    "DynamicsExact = True\n",
    "Progress = 5\n",
    "approx_n = 0.1\n",
    "\n",
    "# Video constants\n",
    "FPS = 30\n",
    "Speed = 0.2\n",
    "Delta_t = 5\n",
    "TimeConstant = 5\n",
    "Steps = int(FPS / Speed * Delta_t)\n",
    "SubSteps = int(np.ceil(TimeConstant * Delta_t * np.max(N / delta_x) / Steps))\n",
    "dt = Delta_t / (Steps * SubSteps)\n",
    "\n",
    "# Plotting settings\n",
    "PlotScalar = True\n",
    "PlotContour = False\n",
    "PlotVector = True\n",
    "PlotStreams = False\n",
    "\n",
    "StreamDensity = 2\n",
    "StreamLength = 1\n",
    "ContourLevels = 10\n",
    "ContourLim = (0, 0.15)\n",
    "\n",
    "# File names\n",
    "FilePos = \"AlternatingLineCurrent/\"\n",
    "Name_B_2D = \"ExAlternatingLineCurrentB_2D.avi\"\n",
    "Name_A_2D = \"ExAlternatingLineCurrentA_2D.avi\"\n",
    "Name_B_1D = \"ExAlternatingLineCurrentB_1D.avi\"\n",
    "Name_A_1D = \"ExAlternatingLineCurrentA_1D.avi\"\n",
    "Save = True"
   ]
  },
  {
   "cell_type": "markdown",
   "metadata": {},
   "source": [
    "## Create the J function"
   ]
  },
  {
   "cell_type": "code",
   "execution_count": null,
   "metadata": {},
   "outputs": [],
   "source": [
    "# Define the current\n",
    "def J(dx, N, x0, c, mu0):\n",
    "    # Create grid\n",
    "    Grid = np.zeros(tuple(N) + (4,))\n",
    "    \n",
    "    # Add in the current, normalising so the current is the same no matter the grid size\n",
    "    Grid[int(N[0] / 2), int(N[1] / 2), :, 3] = Current / (dx[0] * dx[1])\n",
    "    \n",
    "    # Turn into a vector\n",
    "    J_Vector = EM.to_vector(Grid, N)\n",
    "    \n",
    "    # Return the vector\n",
    "    def get_J(t):\n",
    "        return J_Vector * np.sin(2 * np.pi * Frequency * t)\n",
    "    \n",
    "    return get_J"
   ]
  },
  {
   "cell_type": "markdown",
   "metadata": {},
   "source": [
    "## Setup the simulation"
   ]
  },
  {
   "cell_type": "code",
   "execution_count": null,
   "metadata": {},
   "outputs": [],
   "source": [
    "# Setup the simulation\n",
    "Sim = EM.sim(N, delta_x = delta_x, x0 = x0, approx_n = approx_n, dt = dt, J = J, boundaries = Boundaries)"
   ]
  },
  {
   "cell_type": "markdown",
   "metadata": {},
   "source": [
    "## Define the samplers"
   ]
  },
  {
   "cell_type": "code",
   "execution_count": null,
   "metadata": {},
   "outputs": [],
   "source": [
    "# Set clim\n",
    "max_val_A = 0.3\n",
    "max_val_B = 2.5\n",
    "clim_A = np.array([-max_val_A, max_val_A])\n",
    "clim_B = np.array([-max_val_B, max_val_B])\n",
    "\n",
    "# Define hat vectors\n",
    "x_hat = np.array([1, 0, 0])\n",
    "y_hat = np.array([0, 1, 0])\n",
    "hat = np.array([0, 0, 1])\n",
    "B_hat = np.array([0, -1, 0])\n",
    "\n",
    "# Define the resolutions\n",
    "Res_scalar = 1000\n",
    "Res_vector = 30\n",
    "Res_line = 1000\n",
    "\n",
    "# Define extents\n",
    "extent = [0, delta_x[0], 0, delta_x[1]]\n",
    "PointsSize = np.array([delta_x[0], delta_x[1]])\n",
    "x_vals = np.linspace(0, delta_x[0] / 2, Res_line)\n",
    "\n",
    "# Get grid points\n",
    "Points_scalar = EM.sample_points_plane(x_hat, y_hat, np.array([0, 0, 0]), PointsSize, np.array([Res_scalar, Res_scalar]))\n",
    "Points_vector = EM.sample_points_plane(x_hat, y_hat, np.array([0, 0, 0]), PointsSize, np.array([Res_vector, Res_vector]))\n",
    "Points_line = EM.sample_points_line(np.array([0, 0, 0]), np.array([delta_x[0] / 2, 0, 0]), Res_line)\n",
    "\n",
    "# Setup samplers\n",
    "Sampler_B_2D = EM.sampler_B_vector(Sim, Points_vector, x_hat, y_hat)\n",
    "Sampler_A_2D = EM.sampler_A_scalar(Sim, Points_scalar, hat = hat)\n",
    "Sampler_B_1D = EM.sampler_B_line(Sim, Points_line, x = x_vals, hat = B_hat)\n",
    "Sampler_A_1D = EM.sampler_A_line(Sim, Points_line, x = x_vals, hat = hat)"
   ]
  },
  {
   "cell_type": "markdown",
   "metadata": {},
   "source": [
    "## Simulate"
   ]
  },
  {
   "cell_type": "code",
   "execution_count": null,
   "metadata": {},
   "outputs": [],
   "source": [
    "# Solve the statics problem\n",
    "print(\"Solving starting conditions\")\n",
    "StaticTime = Sim.solve(exact = StaticsExact, progress = Progress)\n",
    "print(f\"Solved starting conditions in {StaticTime:.2g} s\")\n",
    "\n",
    "# Solve the dynamics\n",
    "print(\"Solving dynamics\")\n",
    "DynamicTime = Sim.dynamics(Steps, SubSteps, exact = DynamicsExact, progress = Progress)\n",
    "print(f\"Solved dynamics in {DynamicTime:.2g} s\")"
   ]
  },
  {
   "cell_type": "markdown",
   "metadata": {},
   "source": [
    "## Create videos"
   ]
  },
  {
   "cell_type": "code",
   "execution_count": null,
   "metadata": {},
   "outputs": [],
   "source": [
    "# Create folder\n",
    "if Save is True and not os.path.exists(FilePos):\n",
    "    os.mkdir(FilePos)\n",
    "\n",
    "# Save the videos\n",
    "if Save is True:\n",
    "    print(\"Creating videos, this may take a while\")\n",
    "    Sampler_B_2D.make_video(FilePos + Name_B_2D, FPS = FPS, extent = extent, clim = clim_B, density = StreamDensity, length = StreamLength, use_vector = PlotVector, use_streams = PlotStreams)\n",
    "    print(f\"Created video {Name_B_2D}\")\n",
    "    Sampler_A_2D.make_video(FilePos + Name_A_2D, FPS = FPS, extent = extent, clim = clim_A, contour_lim = ContourLim, levels = ContourLevels, use_scalar = PlotScalar, use_contour = PlotContour)\n",
    "    print(f\"Created video {Name_A_2D}\")\n",
    "    Sampler_B_1D.make_video(FilePos + Name_B_1D, FPS = FPS, ylim = clim_B)\n",
    "    print(f\"Created video {Name_B_1D}\")\n",
    "    Sampler_A_1D.make_video(FilePos + Name_A_1D, FPS = FPS, ylim = clim_A)\n",
    "    print(f\"Created video {Name_A_1D}\")"
   ]
  }
 ],
 "metadata": {
  "kernelspec": {
   "display_name": "Python 3",
   "language": "python",
   "name": "python3"
  },
  "language_info": {
   "codemirror_mode": {
    "name": "ipython",
    "version": 3
   },
   "file_extension": ".py",
   "mimetype": "text/x-python",
   "name": "python",
   "nbconvert_exporter": "python",
   "pygments_lexer": "ipython3",
   "version": "3.8.5"
  }
 },
 "nbformat": 4,
 "nbformat_minor": 4
}
