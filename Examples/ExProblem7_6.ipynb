{
 "cells": [
  {
   "cell_type": "markdown",
   "metadata": {},
   "source": [
    "# Alternating Line Current\n",
    "## Import modules"
   ]
  },
  {
   "cell_type": "code",
   "execution_count": null,
   "metadata": {},
   "outputs": [],
   "source": [
    "import os\n",
    "import numpy as np\n",
    "import KUEM as EM\n",
    "import matplotlib.pyplot as plt\n",
    "\n",
    "plt.close(\"all\")"
   ]
  },
  {
   "cell_type": "markdown",
   "metadata": {},
   "source": [
    "## Setup constants and settings"
   ]
  },
  {
   "cell_type": "code",
   "execution_count": null,
   "metadata": {},
   "outputs": [],
   "source": [
    "# Constants for J\n",
    "SurfaceChargeDensity = 1\n",
    "d = 0.4\n",
    "L = 0.5\n",
    "\n",
    "# Grid constants\n",
    "N = np.array([99, 1, 99], dtype = int)\n",
    "delta_x = np.array([2, 2, 2])\n",
    "x0 = np.array([-1, -1, -1])\n",
    "Boundaries = [[\"flat\", \"closed\"], \"periodic\", [\"closed\", \"closed\"]]\n",
    "\n",
    "# Evaluation constants\n",
    "Exact = True\n",
    "Progress = 5\n",
    "approx_n = 0.1\n",
    "\n",
    "# File names\n",
    "FilePos = \"Problem7_6/\"\n",
    "Name_E_2D = \"ExProblem7_6_E.png\"\n",
    "Name_V_2D = \"ExProblem7_6_V.png\"\n",
    "Name_Rho_2D = \"ExProblem7_6_Rho.png\"\n",
    "Name_V_loop = \"ExProblem7_6_loopV.png\"\n",
    "Name_E_loop = \"ExProblem7_6_loopE.png\"\n",
    "Save = True"
   ]
  },
  {
   "cell_type": "markdown",
   "metadata": {},
   "source": [
    "## Create the J function"
   ]
  },
  {
   "cell_type": "code",
   "execution_count": null,
   "metadata": {},
   "outputs": [],
   "source": [
    "# Define the charge\n",
    "def J(dx, N, x0, c, mu0):\n",
    "    # Create grid\n",
    "    Grid = np.zeros(tuple(N) + (4,))\n",
    "    \n",
    "    # Add in the charge, normalising so the charge is the same no matter the grid size\n",
    "    Grid[:int(N[0] * L), :, int(N[2] * (1 + d) / 2), 0] = -c * SurfaceChargeDensity / dx[2]\n",
    "    Grid[:int(N[0] * L), :, int(N[2] * (1 - d) / 2), 0] = c * SurfaceChargeDensity / dx[2]\n",
    "    \n",
    "    # Turn into a vector\n",
    "    J_Vector = EM.to_vector(Grid, N)\n",
    "    \n",
    "    # Return the vector\n",
    "    def get_J(t):\n",
    "        return J_Vector\n",
    "    \n",
    "    return get_J"
   ]
  },
  {
   "cell_type": "markdown",
   "metadata": {},
   "source": [
    "## Setup the simulation"
   ]
  },
  {
   "cell_type": "code",
   "execution_count": null,
   "metadata": {},
   "outputs": [],
   "source": [
    "# Setup the simulation\n",
    "Sim = EM.sim(N, delta_x = delta_x, x0 = x0, approx_n = approx_n, J = J, boundaries = Boundaries)"
   ]
  },
  {
   "cell_type": "markdown",
   "metadata": {},
   "source": [
    "## Define the samplers"
   ]
  },
  {
   "cell_type": "code",
   "execution_count": null,
   "metadata": {},
   "outputs": [],
   "source": [
    "# Constants for the loop\n",
    "L_loop = 0.8\n",
    "h_loop = 0.15\n",
    "\n",
    "# Create corner points of loop\n",
    "p = np.array([[-delta_x[0] * L_loop / 2, 0, -delta_x[2] * h_loop / 2], [-delta_x[0] * L_loop / 2, 0, delta_x[2] * h_loop / 2], [delta_x[0] * L_loop / 2, 0, delta_x[2] * h_loop / 2], [delta_x[0] * L_loop / 2, 0, -delta_x[2] * h_loop / 2]])\n",
    "p_next = np.roll(p, -1, axis = 0)\n",
    "\n",
    "# Get the points to draw the drawing the lines\n",
    "Line_x = np.array([[Pos[0], Pos_next[0]] for Pos, Pos_next in zip(p, p_next)]).transpose()\n",
    "Line_y = np.array([[Pos[2], Pos_next[2]] for Pos, Pos_next in zip(p, p_next)]).transpose()\n",
    "\n",
    "# Define the resolutions\n",
    "Res_scalar = 1000\n",
    "Res_vector = 30\n",
    "Res_line = 1000\n",
    "\n",
    "# Define hat vectors\n",
    "x_hat = np.array([1, 0, 0])\n",
    "y_hat = np.array([0, 0, 1])\n",
    "hat_loop = np.array([(Pos_next - Pos) / np.sqrt(np.sum((Pos_next - Pos) ** 2)) for Pos, Pos_next in zip(p, p_next)])\n",
    "hat_loop = np.repeat(hat_loop.reshape((1,) + hat_loop.shape), Res_line, axis = 0)\n",
    "\n",
    "# Define extents\n",
    "extent = [x0[0], x0[0] + delta_x[0], x0[2], x0[2] + delta_x[2]]\n",
    "PointsSize = np.array([delta_x[0], delta_x[2]])\n",
    "\n",
    "# Get grid points\n",
    "Points_scalar = EM.sample_points_plane(x_hat, y_hat, np.array([0, 0, 0]), PointsSize, np.array([Res_scalar, Res_scalar]))\n",
    "Points_vector = EM.sample_points_plane(x_hat, y_hat, np.array([0, 0, 0]), PointsSize, np.array([Res_vector, Res_vector]))\n",
    "Points_loop = np.array([EM.sample_points_line(Pos, Pos_next, Res_line) for Pos, Pos_next in zip(p, p_next)]).transpose((1, 2, 0))\n",
    "x0_loop = 0\n",
    "x_loop = []\n",
    "for p1, p2 in zip(p, p_next):\n",
    "    x1_loop = x0_loop + np.sqrt(np.sum((p2 - p1) ** 2))\n",
    "    x_loop.append(np.linspace(x0_loop, x1_loop, Res_line))\n",
    "    x0_loop = x1_loop\n",
    "x_loop = np.array(x_loop).transpose((1, 0))\n",
    "\n",
    "# Setup samplers\n",
    "Sampler_E_2D = EM.sampler_E_vector(Sim, Points_vector, x_hat, y_hat)\n",
    "Sampler_V_2D = EM.sampler_V_scalar(Sim, Points_scalar)\n",
    "Sampler_Rho_2D = EM.sampler_Rho_scalar(Sim, Points_scalar)\n",
    "Sampler_V_loop = EM.sampler_V_line(Sim, Points_loop, x = x_loop)\n",
    "Sampler_E_loop = EM.sampler_E_line(Sim, Points_loop, hat_loop, x = x_loop)"
   ]
  },
  {
   "cell_type": "markdown",
   "metadata": {},
   "source": [
    "## Simulate"
   ]
  },
  {
   "cell_type": "code",
   "execution_count": null,
   "metadata": {},
   "outputs": [],
   "source": [
    "# Solve the statics problem\n",
    "print(\"Solving\")\n",
    "StaticTime = Sim.solve(exact = Exact, progress = Progress)\n",
    "print(f\"Solved in {StaticTime:.2g} s\")"
   ]
  },
  {
   "cell_type": "markdown",
   "metadata": {},
   "source": [
    "## Create images"
   ]
  },
  {
   "cell_type": "code",
   "execution_count": null,
   "metadata": {},
   "outputs": [],
   "source": [
    "# Create the images\n",
    "if Save is True and not os.path.exists(FilePos):\n",
    "    os.mkdir(FilePos)\n",
    "\n",
    "fig_E_2D, ax_E_2D, _ = Sampler_E_2D.plot(0, extent = extent)\n",
    "ax_E_2D.plot(Line_x, Line_y)\n",
    "if Save is True:\n",
    "    fig_E_2D.savefig(FilePos + Name_E_2D)\n",
    "\n",
    "fig_V_2D, _, _ = Sampler_V_2D.plot(0, extent = extent, use_contour = True, levels = 15)\n",
    "if Save is True:\n",
    "    fig_V_2D.savefig(FilePos + Name_V_2D)\n",
    "\n",
    "fig_Rho_2D, _, _ = Sampler_Rho_2D.plot(0, extent = extent)\n",
    "if Save is True:\n",
    "    fig_Rho_2D.savefig(FilePos + Name_Rho_2D)\n",
    "\n",
    "fig_V_loop, ax_V_loop, _ = Sampler_V_loop.plot(0)\n",
    "ax_V_loop.set_title(\"Potential on rectangular wire\")\n",
    "ax_V_loop.set_xlabel(\"Distance\")\n",
    "ax_V_loop.set_ylabel(\"Electric potential\")\n",
    "if Save is True:\n",
    "    fig_V_loop.savefig(FilePos + Name_V_loop)\n",
    "\n",
    "fig_E_loop, ax_E_loop, _ = Sampler_E_loop.plot(0)\n",
    "ax_E_loop.set_title(\"Electromotive force per unit length on rectangular wire\")\n",
    "ax_E_loop.set_xlabel(\"Distance\")\n",
    "ax_E_loop.set_ylabel(\"Electromotive for per unit length (Strength of E along wire)\")\n",
    "if Save is True:\n",
    "    fig_E_loop.savefig(FilePos + Name_E_loop)"
   ]
  }
 ],
 "metadata": {
  "kernelspec": {
   "display_name": "Python 3",
   "language": "python",
   "name": "python3"
  },
  "language_info": {
   "codemirror_mode": {
    "name": "ipython",
    "version": 3
   },
   "file_extension": ".py",
   "mimetype": "text/x-python",
   "name": "python",
   "nbconvert_exporter": "python",
   "pygments_lexer": "ipython3",
   "version": "3.8.5"
  }
 },
 "nbformat": 4,
 "nbformat_minor": 4
}
