{
 "cells": [
  {
   "cell_type": "markdown",
   "metadata": {},
   "source": [
    "# Alternating Line Current\n",
    "## Import modules"
   ]
  },
  {
   "cell_type": "code",
   "execution_count": null,
   "metadata": {},
   "outputs": [],
   "source": [
    "import os\n",
    "import numpy as np\n",
    "import KUEM as EM\n",
    "import matplotlib.pyplot as plt\n",
    "\n",
    "plt.close(\"all\")"
   ]
  },
  {
   "cell_type": "markdown",
   "metadata": {},
   "source": [
    "## Setup constants and settings"
   ]
  },
  {
   "cell_type": "code",
   "execution_count": null,
   "metadata": {},
   "outputs": [],
   "source": [
    "# Constants for J\n",
    "Charge = 1\n",
    "Frequency = 2\n",
    "d = 0.1\n",
    "\n",
    "# Grid constants\n",
    "N = np.array([49, 49, 49], dtype = int)\n",
    "delta_x = np.array([2, 2, 2])\n",
    "x0 = np.array([-1, -1, -1])\n",
    "Boundaries = [[\"closed\", \"closed\"], [\"closed\", \"closed\"], [\"closed\", \"closed\"]]\n",
    "\n",
    "# Evaluation constants\n",
    "StaticsExact = False\n",
    "DynamicsExact = False\n",
    "Progress = 5\n",
    "approx_n = 0.1\n",
    "\n",
    "# Video constants\n",
    "FPS = 30\n",
    "Speed = 0.1\n",
    "Delta_t = 2\n",
    "TimeConstant = 5\n",
    "Steps = int(FPS / Speed * Delta_t)\n",
    "SubSteps = int(np.ceil(TimeConstant * Delta_t * np.max(N / delta_x) / Steps))\n",
    "dt = Delta_t / (Steps * SubSteps)\n",
    "\n",
    "# Plotting settings\n",
    "PlotScalar = True\n",
    "PlotContour = False\n",
    "\n",
    "ContourLevels = 10\n",
    "ContourLim = (0, 0.15)\n",
    "\n",
    "# File names\n",
    "FilePos = \"OscillatingDipole/\"\n",
    "Name_u_2D = \"ExOscillatingDipole_u_2D.avi\"\n",
    "Save = True"
   ]
  },
  {
   "cell_type": "markdown",
   "metadata": {},
   "source": [
    "## Create the J function"
   ]
  },
  {
   "cell_type": "code",
   "execution_count": null,
   "metadata": {},
   "outputs": [],
   "source": [
    "# Define the current\n",
    "def J(dx, N, x0, c, mu0):\n",
    "    # Find the position of the 2 charges\n",
    "    Pos1 = int(N[2] * (1 + d) / 2)\n",
    "    Pos2 = int(N[2] * (1 - d) / 2)\n",
    "    \n",
    "    # Create grid\n",
    "    Grid = np.zeros(tuple(N) + (4,))\n",
    "    \n",
    "    # Add in the current, normalising so the current is the same no matter the grid size\n",
    "    Grid[int(N[0] / 2), int(N[1] / 2), Pos1 + 1:Pos2, 3] = -Charge * 2 * np.pi * Frequency / (dx[0] * dx[1])\n",
    "    \n",
    "    # Add in the charges\n",
    "    Grid[int(N[0] / 2), int(N[1] / 2), Pos1, 0] = c * Charge / np.prod(dx)\n",
    "    Grid[int(N[0] / 2), int(N[1] / 2), Pos2, 0] = -c * Charge / np.prod(dx)\n",
    "    \n",
    "    # Turn into a vector\n",
    "    J_Vector = EM.to_vector(Grid, N)\n",
    "    \n",
    "    # Return the vector\n",
    "    def get_J(t):\n",
    "        return J_Vector * np.array([np.cos(2 * np.pi * Frequency * t), 0, 0, np.sin(2 * np.pi * Frequency * t)]).reshape((1, -1))\n",
    "    \n",
    "    return get_J"
   ]
  },
  {
   "cell_type": "markdown",
   "metadata": {},
   "source": [
    "## Setup the simulation"
   ]
  },
  {
   "cell_type": "code",
   "execution_count": null,
   "metadata": {},
   "outputs": [],
   "source": [
    "# Setup the simulation\n",
    "Sim = EM.sim(N, delta_x = delta_x, x0 = x0, approx_n = approx_n, dt = dt, J = J, boundaries = Boundaries)"
   ]
  },
  {
   "cell_type": "markdown",
   "metadata": {},
   "source": [
    "## Define the samplers"
   ]
  },
  {
   "cell_type": "code",
   "execution_count": null,
   "metadata": {},
   "outputs": [],
   "source": [
    "# Set clim\n",
    "max_val_u = 5\n",
    "clim_u = np.array([0, max_val_u])\n",
    "\n",
    "# Define hat vectors\n",
    "x_hat = np.array([1, 0, 0])\n",
    "y_hat = np.array([0, 0, 1])\n",
    "\n",
    "# Define the resolutions\n",
    "Res_scalar = 1000\n",
    "\n",
    "# Define extents\n",
    "extent = [x0[0],x0[0] + delta_x[0], x0[2], x0[2] + delta_x[2]]\n",
    "PointsSize = np.array([delta_x[0], delta_x[2]])\n",
    "\n",
    "# Get grid points\n",
    "Points_scalar = EM.sample_points_plane(x_hat, y_hat, np.array([0, 0, 0]), PointsSize, np.array([Res_scalar, Res_scalar]))\n",
    "\n",
    "# Setup samplers\n",
    "Sampler_u_2D = EM.sampler_u_scalar(Sim, Points_scalar)"
   ]
  },
  {
   "cell_type": "markdown",
   "metadata": {},
   "source": [
    "## Simulate"
   ]
  },
  {
   "cell_type": "code",
   "execution_count": null,
   "metadata": {},
   "outputs": [],
   "source": [
    "# Solve the statics problem\n",
    "print(\"Solving starting conditions\")\n",
    "StaticTime = Sim.solve(exact = StaticsExact, progress = Progress)\n",
    "print(f\"Solved starting conditions in {StaticTime:.2g} s\")\n",
    "\n",
    "# Solve the dynamics\n",
    "print(\"Solving dynamics\")\n",
    "DynamicTime = Sim.dynamics(Steps, SubSteps, exact = DynamicsExact, progress = Progress)\n",
    "print(f\"Solved dynamics in {DynamicTime:.2g} s\")"
   ]
  },
  {
   "cell_type": "markdown",
   "metadata": {},
   "source": [
    "## Create videos"
   ]
  },
  {
   "cell_type": "code",
   "execution_count": null,
   "metadata": {},
   "outputs": [],
   "source": [
    "if Save is True and not os.path.exists(FilePos):\n",
    "    os.mkdir(FilePos)\n",
    "\n",
    "if Save is True:\n",
    "    print(\"Creating videos, this may take a while\")\n",
    "    Sampler_u_2D.make_video(FilePos + Name_u_2D, FPS = FPS, extent = extent, clim = clim_u, contour_lim = ContourLim, levels = ContourLevels, use_scalar = PlotScalar, use_contour = PlotContour)\n",
    "    print(f\"Created video {Name_u_2D}\")"
   ]
  }
 ],
 "metadata": {
  "kernelspec": {
   "display_name": "Python 3",
   "language": "python",
   "name": "python3"
  },
  "language_info": {
   "codemirror_mode": {
    "name": "ipython",
    "version": 3
   },
   "file_extension": ".py",
   "mimetype": "text/x-python",
   "name": "python",
   "nbconvert_exporter": "python",
   "pygments_lexer": "ipython3",
   "version": "3.8.5"
  }
 },
 "nbformat": 4,
 "nbformat_minor": 4
}
