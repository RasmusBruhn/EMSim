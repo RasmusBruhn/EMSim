{
 "cells": [
  {
   "cell_type": "markdown",
   "metadata": {},
   "source": [
    "# Alternating Line Current\n",
    "## Import modules"
   ]
  },
  {
   "cell_type": "code",
   "execution_count": null,
   "metadata": {},
   "outputs": [],
   "source": [
    "import os\n",
    "import numpy as np\n",
    "import KUEM as EM\n",
    "import matplotlib.pyplot as plt\n",
    "\n",
    "plt.close(\"all\")"
   ]
  },
  {
   "cell_type": "markdown",
   "metadata": {},
   "source": [
    "## Setup constants and settings"
   ]
  },
  {
   "cell_type": "code",
   "execution_count": null,
   "metadata": {},
   "outputs": [],
   "source": [
    "# Constants for J\n",
    "Charge = 1\n",
    "d = 0.4\n",
    "\n",
    "# Grid constants\n",
    "N = np.array([49, 49, 49], dtype = int)\n",
    "delta_x = np.array([2, 2, 2])\n",
    "x0 = np.array([-1, -1, -1])\n",
    "Boundaries = [[\"closed\", \"closed\"], [\"closed\", \"closed\"], [\"closed\", \"closed\"]]\n",
    "\n",
    "# Evaluation constants\n",
    "Exact = False\n",
    "Progress = 5\n",
    "approx_n = 0.1\n",
    "\n",
    "# Plotting settings\n",
    "PlotScalar = True\n",
    "PlotContour = True\n",
    "PlotVector = False\n",
    "PlotStreams = True\n",
    "\n",
    "StreamDensity = 2\n",
    "StreamLength = 1\n",
    "ContourLevels = 10\n",
    "ContourLim = (-0.4, 0.4)\n",
    "\n",
    "# File names\n",
    "FilePos = \"ElectricDipole/\"\n",
    "Name_E_2D = \"ExElectricDipoleE.png\"\n",
    "Name_V_2D = \"ExElectricDipoleV.png\"\n",
    "Name_Rho_2D = \"ExElectricDipoleRho.png\"\n",
    "Save = True"
   ]
  },
  {
   "cell_type": "markdown",
   "metadata": {},
   "source": [
    "## Create the J function"
   ]
  },
  {
   "cell_type": "code",
   "execution_count": null,
   "metadata": {},
   "outputs": [],
   "source": [
    "# Define the charge\n",
    "def J(dx, N, x0, c, mu0):\n",
    "    # Create grid\n",
    "    Grid = np.zeros(tuple(N) + (4,))\n",
    "    \n",
    "    # Add in the charge, normalising so the charge is the same no matter the grid size\n",
    "    Grid[int(N[0] / 2), int(N[1] / 2), int(N[2] * (1 - d) / 2), 0] = c * Charge / np.prod(dx)\n",
    "    Grid[int(N[0] / 2), int(N[1] / 2), int(N[2] * (1 + d) / 2), 0] = -c * Charge / np.prod(dx)\n",
    "    \n",
    "    # Turn into a vector\n",
    "    J_Vector = EM.to_vector(Grid, N)\n",
    "    \n",
    "    # Return the vector\n",
    "    def get_J(t):\n",
    "        return J_Vector\n",
    "    \n",
    "    return get_J"
   ]
  },
  {
   "cell_type": "markdown",
   "metadata": {},
   "source": [
    "## Setup the simulation"
   ]
  },
  {
   "cell_type": "code",
   "execution_count": null,
   "metadata": {},
   "outputs": [],
   "source": [
    "# Setup the simulation\n",
    "Sim = EM.sim(N, delta_x = delta_x, x0 = x0, approx_n = approx_n, J = J, boundaries = Boundaries)"
   ]
  },
  {
   "cell_type": "markdown",
   "metadata": {},
   "source": [
    "## Define the samplers"
   ]
  },
  {
   "cell_type": "code",
   "execution_count": null,
   "metadata": {},
   "outputs": [],
   "source": [
    "# Define the scale function\n",
    "Scale_k = 0.04\n",
    "def Scale(x):\n",
    "    k = (np.max(x) - np.min(x)) / 2 * Scale_k\n",
    "    m = (np.max(x) + np.min(x)) / 2\n",
    "    return np.tanh((x - m) / k)\n",
    "\n",
    "# Define hat vectors\n",
    "x_hat = np.array([1, 0, 0])\n",
    "y_hat = np.array([0, 0, 1])\n",
    "\n",
    "# Define the resolutions\n",
    "Res_scalar = 1000\n",
    "Res_vector = 30\n",
    "\n",
    "# Define extents\n",
    "extent = [0, delta_x[0], 0, delta_x[2]]\n",
    "PointsSize = np.array([delta_x[0], delta_x[2]])\n",
    "\n",
    "# Get grid points\n",
    "Points_scalar = EM.sample_points_plane(x_hat, y_hat, np.array([0, 0, 0]), PointsSize, np.array([Res_scalar, Res_scalar]))\n",
    "Points_vector = EM.sample_points_plane(x_hat, y_hat, np.array([0, 0, 0]), PointsSize, np.array([Res_vector, Res_vector]))\n",
    "\n",
    "# Setup samplers\n",
    "Sampler_E_2D = EM.sampler_E_vector(Sim, Points_vector, x_hat, y_hat)\n",
    "Sampler_V_2D = EM.sampler_V_scalar(Sim, Points_scalar)\n",
    "Sampler_Rho_2D = EM.sampler_Rho_scalar(Sim, Points_scalar)"
   ]
  },
  {
   "cell_type": "markdown",
   "metadata": {},
   "source": [
    "## Simulate"
   ]
  },
  {
   "cell_type": "code",
   "execution_count": null,
   "metadata": {},
   "outputs": [],
   "source": [
    "# Solve the statics problem\n",
    "print(\"Solving\")\n",
    "StaticTime = Sim.solve(exact = Exact, progress = Progress)\n",
    "print(f\"Solved in {StaticTime:.2g} s\")"
   ]
  },
  {
   "cell_type": "markdown",
   "metadata": {},
   "source": [
    "## Create images"
   ]
  },
  {
   "cell_type": "code",
   "execution_count": null,
   "metadata": {},
   "outputs": [],
   "source": [
    "# Create the images\n",
    "if Save is True and not os.path.exists(FilePos):\n",
    "    os.mkdir(FilePos)\n",
    "\n",
    "fig_E_2D, _, _ = Sampler_E_2D.plot(0, extent = extent, scale = np.log, use_vector = PlotVector, use_streams = PlotStreams, density = StreamDensity, length = StreamLength)\n",
    "if Save is True:\n",
    "    fig_E_2D.savefig(FilePos + Name_E_2D)\n",
    "\n",
    "fig_V_2D, _, _ = Sampler_V_2D.plot(0, extent = extent, scale = Scale, contour_lim = ContourLim, use_scalar = PlotScalar, use_contour = PlotContour)\n",
    "if Save is True:\n",
    "    fig_V_2D.savefig(FilePos + Name_V_2D)\n",
    "\n",
    "fig_Rho_2D, _, _ = Sampler_Rho_2D.plot(0, extent = extent)\n",
    "if Save is True:\n",
    "    fig_Rho_2D.savefig(FilePos + Name_Rho_2D)"
   ]
  }
 ],
 "metadata": {
  "kernelspec": {
   "display_name": "Python 3",
   "language": "python",
   "name": "python3"
  },
  "language_info": {
   "codemirror_mode": {
    "name": "ipython",
    "version": 3
   },
   "file_extension": ".py",
   "mimetype": "text/x-python",
   "name": "python",
   "nbconvert_exporter": "python",
   "pygments_lexer": "ipython3",
   "version": "3.8.5"
  }
 },
 "nbformat": 4,
 "nbformat_minor": 4
}
